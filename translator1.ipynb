{
 "cells": [
  {
   "cell_type": "code",
   "execution_count": null,
   "metadata": {},
   "outputs": [],
   "source": [
    "from tkinter import *\n",
    "from tkinter import ttk, messagebox\n",
    "import googletrans\n",
    "from googletrans import Translator"
   ]
  },
  {
   "cell_type": "code",
   "execution_count": null,
   "metadata": {},
   "outputs": [],
   "source": [
    "root=Tk()\n",
    "root.geometry(\"1080x400\")\n",
    "root.title(\"Google Translator 2.0\")\n",
    "root.resizable (False, False)\n",
    "root.configure(background=\"white\")\n"
   ]
  },
  {
   "cell_type": "code",
   "execution_count": null,
   "metadata": {},
   "outputs": [],
   "source": [
    "def  label_change():\n",
    "    c=combo1.get()\n",
    "    c1=combo2.get()\n",
    "    label1.configure(text=c)\n",
    "    label2.configure(text=c1)\n",
    "    root.after(1000,label_change)\n",
    "\n",
    "def translate_now():\n",
    "    text_=text1.get(1.0,END)\n",
    "    t1=Translator()\n",
    "    trans_text=t1.translate(text_,src=combo1.get(),dest=combo2.get())\n",
    "    trans_text=trans_text.text\n",
    "    \n",
    "    text2.delete(1.0,END)\n",
    "    text2.insert(END,trans_text)\n"
   ]
  },
  {
   "cell_type": "code",
   "execution_count": null,
   "metadata": {},
   "outputs": [],
   "source": [
    "#icon\n",
    "\n",
    "image_icon=PhotoImage(file=\"arrow.png\")\n",
    "root.iconphoto(False,image_icon)\n",
    "\n",
    "#arrow\n",
    "\n",
    "arrow_image=PhotoImage(file=\"arrow.png\")\n",
    "image_label=Label(root, image=arrow_image, width=150)\n",
    "image_label.place(x=460,y=50)\n",
    "\n",
    "\n",
    "\n",
    "\n",
    "language=googletrans.LANGUAGES\n",
    "languageV=list(language.values())\n",
    "lang1=language.keys()\n",
    "\n",
    "#first combobox\n",
    "\n",
    "combo1 = ttk.Combobox(root, values=languageV, font=\"Roboto 14\", state=\"readonly\")\n",
    "combo1.place(x=110, y=20)\n",
    "combo1.set(\"ENGLISH\")\n",
    "\n",
    "label1=Label(root,text=\"ENGLISH\",font=\"segoe 30 bold\",bg=\"white\",width=18,bd=5,relief=GROOVE)\n",
    "label1.place(x=10,y=50)\n",
    "\n",
    "#second combobox\n",
    "\n",
    "combo2=ttk.Combobox(root,values=languageV,font=\"Roboto 14\",state=\"r\")\n",
    "combo2.place(x=730,y=20)\n",
    "combo2.set(\"SELECT LANGUAGE\")\n",
    "\n",
    "label2=Label(root,text=\"ENGLISH\",font=\"segoe 30 bold\",bg=\"white\",width=18,bd=5,relief=GROOVE)\n",
    "label2.place(x=620,y=50)\n"
   ]
  },
  {
   "cell_type": "code",
   "execution_count": null,
   "metadata": {},
   "outputs": [],
   "source": [
    "#first frame\n",
    "f=Frame(root,bg=\"Black\",bd=5)\n",
    "f.place(x=10,y=118,width=440,height=210)\n",
    "text1=Text(f, font=\"Robote 20\",bg=\"white\", relief=GROOVE, wrap=WORD)\n",
    "text1.place(x=0,y=0,width=430,height=200)\n",
    "\n",
    "scrollbar1=Scrollbar(f)\n",
    "scrollbar1.pack(side=\"right\", fill=\"y\")\n",
    "\n",
    "scrollbar1.configure(command=text1.yview)\n",
    "text1.configure(yscrollcommand= scrollbar1.set)\n",
    "\n",
    "\n",
    "#second frame\n",
    "f1=Frame(root,bg=\"Black\",bd=5)\n",
    "f1.place(x=620,y=118,width=440,height=210)\n",
    "text2=Text(f1, font=\"Robote 20\",bg=\"white\", relief=GROOVE, wrap=WORD)\n",
    "text2.place(x=0,y=0,width=430,height=200)\n",
    "\n",
    "scrollbar2=Scrollbar(f1)\n",
    "scrollbar1.pack(side=\"right\", fill=\"y\")\n",
    "\n",
    "scrollbar2.configure(command=text2.yview)\n",
    "text2.configure(yscrollcommand=scrollbar2.set)\n",
    "\n",
    "\n",
    "\n",
    "#translation button\n",
    "translate=Button(root,text=\"Translate\",font=(\"Robot\",15),activebackground=\"white\",cursor=\"hand2\",bd=1,width=10,height=2,bg=\"black\",fg=\"white\",command=translate_now)\n",
    "translate.place(x=476,y=250)\n",
    "\n",
    "\n",
    "\n",
    "label_change()\n",
    "root.mainloop()\n"
   ]
  }
 ],
 "metadata": {
  "language_info": {
   "name": "python"
  },
  "orig_nbformat": 4
 },
 "nbformat": 4,
 "nbformat_minor": 2
}
